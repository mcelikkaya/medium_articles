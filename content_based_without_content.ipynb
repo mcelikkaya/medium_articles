{
 "cells": [
  {
   "cell_type": "code",
   "execution_count": 1,
   "metadata": {},
   "outputs": [],
   "source": [
    "#Content Based Model by Rating\n"
   ]
  },
  {
   "cell_type": "code",
   "execution_count": 2,
   "metadata": {},
   "outputs": [],
   "source": [
    "import pandas as pd\n",
    "import numpy as np\n",
    "from sklearn.metrics.pairwise import linear_kernel \n",
    "from sklearn.metrics.pairwise import cosine_similarity \n"
   ]
  },
  {
   "cell_type": "code",
   "execution_count": 3,
   "metadata": {},
   "outputs": [
    {
     "data": {
      "text/html": [
       "<div>\n",
       "<style scoped>\n",
       "    .dataframe tbody tr th:only-of-type {\n",
       "        vertical-align: middle;\n",
       "    }\n",
       "\n",
       "    .dataframe tbody tr th {\n",
       "        vertical-align: top;\n",
       "    }\n",
       "\n",
       "    .dataframe thead th {\n",
       "        text-align: right;\n",
       "    }\n",
       "</style>\n",
       "<table border=\"1\" class=\"dataframe\">\n",
       "  <thead>\n",
       "    <tr style=\"text-align: right;\">\n",
       "      <th></th>\n",
       "      <th>FruitySet1</th>\n",
       "      <th>FruitySet2</th>\n",
       "      <th>SpicySet1</th>\n",
       "      <th>SpicySet2</th>\n",
       "    </tr>\n",
       "  </thead>\n",
       "  <tbody>\n",
       "    <tr>\n",
       "      <th>Frank</th>\n",
       "      <td>0.8</td>\n",
       "      <td>0.7</td>\n",
       "      <td>-0.1</td>\n",
       "      <td>-0.1</td>\n",
       "    </tr>\n",
       "    <tr>\n",
       "      <th>Ferdy</th>\n",
       "      <td>0.7</td>\n",
       "      <td>0.8</td>\n",
       "      <td>-0.2</td>\n",
       "      <td>-0.1</td>\n",
       "    </tr>\n",
       "    <tr>\n",
       "      <th>Sam</th>\n",
       "      <td>-0.1</td>\n",
       "      <td>-0.1</td>\n",
       "      <td>0.8</td>\n",
       "      <td>0.7</td>\n",
       "    </tr>\n",
       "    <tr>\n",
       "      <th>Samuel</th>\n",
       "      <td>-0.1</td>\n",
       "      <td>-0.2</td>\n",
       "      <td>0.7</td>\n",
       "      <td>0.7</td>\n",
       "    </tr>\n",
       "  </tbody>\n",
       "</table>\n",
       "</div>"
      ],
      "text/plain": [
       "        FruitySet1  FruitySet2  SpicySet1  SpicySet2\n",
       "Frank          0.8         0.7       -0.1       -0.1\n",
       "Ferdy          0.7         0.8       -0.2       -0.1\n",
       "Sam           -0.1        -0.1        0.8        0.7\n",
       "Samuel        -0.1        -0.2        0.7        0.7"
      ]
     },
     "execution_count": 3,
     "metadata": {},
     "output_type": "execute_result"
    }
   ],
   "source": [
    "#let's say we have 2 category for curry Fruity and Spicy\n",
    "#and 4 people. 2 like Fruity and 2 like Spicy\n",
    "features = [\"FruitySet1\",\"FruitySet2\",\"SpicySet1\",\"SpicySet2\"]\n",
    "heidi = [0.8,0.7,-0.1,-0.1]\n",
    "henry  = [0.7,0.8,-0.2,-0.1]\n",
    "peter  = [-0.1,-0.1,0.8,0.7]\n",
    "pedro  = [-0.1,-0.2,0.7,0.7]\n",
    "\n",
    "\n",
    "classes = [\"Frank\",\"Ferdy\",\"Sam\",\"Samuel\"]\n",
    "datas = np.stack([heidi,henry,peter,pedro])\n",
    "df_data = pd.DataFrame(datas,columns=features,index=classes)\n",
    "df_data\n",
    "#below frame shows user by curryse features"
   ]
  },
  {
   "cell_type": "code",
   "execution_count": 4,
   "metadata": {},
   "outputs": [
    {
     "data": {
      "text/html": [
       "<div>\n",
       "<style scoped>\n",
       "    .dataframe tbody tr th:only-of-type {\n",
       "        vertical-align: middle;\n",
       "    }\n",
       "\n",
       "    .dataframe tbody tr th {\n",
       "        vertical-align: top;\n",
       "    }\n",
       "\n",
       "    .dataframe thead th {\n",
       "        text-align: right;\n",
       "    }\n",
       "</style>\n",
       "<table border=\"1\" class=\"dataframe\">\n",
       "  <thead>\n",
       "    <tr style=\"text-align: right;\">\n",
       "      <th></th>\n",
       "      <th>Frank</th>\n",
       "      <th>Ferdy</th>\n",
       "      <th>Sam</th>\n",
       "      <th>Samuel</th>\n",
       "    </tr>\n",
       "  </thead>\n",
       "  <tbody>\n",
       "    <tr>\n",
       "      <th>FruitySet1</th>\n",
       "      <td>0.8</td>\n",
       "      <td>0.7</td>\n",
       "      <td>-0.1</td>\n",
       "      <td>-0.1</td>\n",
       "    </tr>\n",
       "    <tr>\n",
       "      <th>FruitySet2</th>\n",
       "      <td>0.7</td>\n",
       "      <td>0.8</td>\n",
       "      <td>-0.1</td>\n",
       "      <td>-0.2</td>\n",
       "    </tr>\n",
       "    <tr>\n",
       "      <th>SpicySet1</th>\n",
       "      <td>-0.1</td>\n",
       "      <td>-0.2</td>\n",
       "      <td>0.8</td>\n",
       "      <td>0.7</td>\n",
       "    </tr>\n",
       "    <tr>\n",
       "      <th>SpicySet2</th>\n",
       "      <td>-0.1</td>\n",
       "      <td>-0.1</td>\n",
       "      <td>0.7</td>\n",
       "      <td>0.7</td>\n",
       "    </tr>\n",
       "  </tbody>\n",
       "</table>\n",
       "</div>"
      ],
      "text/plain": [
       "            Frank  Ferdy  Sam  Samuel\n",
       "FruitySet1    0.8    0.7 -0.1    -0.1\n",
       "FruitySet2    0.7    0.8 -0.1    -0.2\n",
       "SpicySet1    -0.1   -0.2  0.8     0.7\n",
       "SpicySet2    -0.1   -0.1  0.7     0.7"
      ]
     },
     "execution_count": 4,
     "metadata": {},
     "output_type": "execute_result"
    }
   ],
   "source": [
    "#if we get the transpose now it is curryset by use feature\n",
    "df_curryset_user = df_data.T\n",
    "df_curryset_user"
   ]
  },
  {
   "cell_type": "code",
   "execution_count": null,
   "metadata": {},
   "outputs": [],
   "source": []
  },
  {
   "cell_type": "code",
   "execution_count": 5,
   "metadata": {},
   "outputs": [],
   "source": [
    "#now we have a new user(me) ,and I rated only 2 items\n",
    "new_person_me  = [-0.1,0,0.7,0]\n",
    "#new_person  = [ FruitySet1 = -0.1, FruitySet2 = 0, SpicySet1 = 0.7, SpicySet2= 0 ]"
   ]
  },
  {
   "cell_type": "code",
   "execution_count": 6,
   "metadata": {},
   "outputs": [
    {
     "name": "stdout",
     "output_type": "stream",
     "text": [
      "classes ['Frank', 'Ferdy', 'Sam', 'Samuel', 'me']\n"
     ]
    },
    {
     "data": {
      "text/html": [
       "<div>\n",
       "<style scoped>\n",
       "    .dataframe tbody tr th:only-of-type {\n",
       "        vertical-align: middle;\n",
       "    }\n",
       "\n",
       "    .dataframe tbody tr th {\n",
       "        vertical-align: top;\n",
       "    }\n",
       "\n",
       "    .dataframe thead th {\n",
       "        text-align: right;\n",
       "    }\n",
       "</style>\n",
       "<table border=\"1\" class=\"dataframe\">\n",
       "  <thead>\n",
       "    <tr style=\"text-align: right;\">\n",
       "      <th></th>\n",
       "      <th>FruitySet1</th>\n",
       "      <th>FruitySet2</th>\n",
       "      <th>SpicySet1</th>\n",
       "      <th>SpicySet2</th>\n",
       "    </tr>\n",
       "  </thead>\n",
       "  <tbody>\n",
       "    <tr>\n",
       "      <th>Frank</th>\n",
       "      <td>0.8</td>\n",
       "      <td>0.7</td>\n",
       "      <td>-0.1</td>\n",
       "      <td>-0.1</td>\n",
       "    </tr>\n",
       "    <tr>\n",
       "      <th>Ferdy</th>\n",
       "      <td>0.7</td>\n",
       "      <td>0.8</td>\n",
       "      <td>-0.2</td>\n",
       "      <td>-0.1</td>\n",
       "    </tr>\n",
       "    <tr>\n",
       "      <th>Sam</th>\n",
       "      <td>-0.1</td>\n",
       "      <td>-0.1</td>\n",
       "      <td>0.8</td>\n",
       "      <td>0.7</td>\n",
       "    </tr>\n",
       "    <tr>\n",
       "      <th>Samuel</th>\n",
       "      <td>-0.1</td>\n",
       "      <td>-0.2</td>\n",
       "      <td>0.7</td>\n",
       "      <td>0.7</td>\n",
       "    </tr>\n",
       "    <tr>\n",
       "      <th>me</th>\n",
       "      <td>-0.1</td>\n",
       "      <td>0.0</td>\n",
       "      <td>0.7</td>\n",
       "      <td>0.0</td>\n",
       "    </tr>\n",
       "  </tbody>\n",
       "</table>\n",
       "</div>"
      ],
      "text/plain": [
       "        FruitySet1  FruitySet2  SpicySet1  SpicySet2\n",
       "Frank          0.8         0.7       -0.1       -0.1\n",
       "Ferdy          0.7         0.8       -0.2       -0.1\n",
       "Sam           -0.1        -0.1        0.8        0.7\n",
       "Samuel        -0.1        -0.2        0.7        0.7\n",
       "me            -0.1         0.0        0.7        0.0"
      ]
     },
     "execution_count": 6,
     "metadata": {},
     "output_type": "execute_result"
    }
   ],
   "source": [
    "\n",
    "#generate new dataframe\n",
    "classes = classes + [\"me\"]\n",
    "print(\"classes\",classes)\n",
    "datas = np.stack([heidi,henry,peter,pedro,new_person_me])\n",
    "\n",
    "df_data = pd.DataFrame(datas,columns=features,index=classes)\n",
    "df_data"
   ]
  },
  {
   "cell_type": "code",
   "execution_count": 7,
   "metadata": {},
   "outputs": [
    {
     "data": {
      "text/html": [
       "<div>\n",
       "<style scoped>\n",
       "    .dataframe tbody tr th:only-of-type {\n",
       "        vertical-align: middle;\n",
       "    }\n",
       "\n",
       "    .dataframe tbody tr th {\n",
       "        vertical-align: top;\n",
       "    }\n",
       "\n",
       "    .dataframe thead th {\n",
       "        text-align: right;\n",
       "    }\n",
       "</style>\n",
       "<table border=\"1\" class=\"dataframe\">\n",
       "  <thead>\n",
       "    <tr style=\"text-align: right;\">\n",
       "      <th></th>\n",
       "      <th>FruitySet1</th>\n",
       "      <th>FruitySet2</th>\n",
       "      <th>SpicySet1</th>\n",
       "      <th>SpicySet2</th>\n",
       "    </tr>\n",
       "  </thead>\n",
       "  <tbody>\n",
       "    <tr>\n",
       "      <th>Sam</th>\n",
       "      <td>-0.1</td>\n",
       "      <td>-0.1</td>\n",
       "      <td>0.8</td>\n",
       "      <td>0.7</td>\n",
       "    </tr>\n",
       "    <tr>\n",
       "      <th>Samuel</th>\n",
       "      <td>-0.1</td>\n",
       "      <td>-0.2</td>\n",
       "      <td>0.7</td>\n",
       "      <td>0.7</td>\n",
       "    </tr>\n",
       "  </tbody>\n",
       "</table>\n",
       "</div>"
      ],
      "text/plain": [
       "        FruitySet1  FruitySet2  SpicySet1  SpicySet2\n",
       "Sam           -0.1        -0.1        0.8        0.7\n",
       "Samuel        -0.1        -0.2        0.7        0.7"
      ]
     },
     "execution_count": 7,
     "metadata": {},
     "output_type": "execute_result"
    }
   ],
   "source": [
    "#now here the important,just filter users who gave similar ratings to similar items\n",
    "similar_likes = df_data.iloc[[2,3]]\n",
    "similar_likes"
   ]
  },
  {
   "cell_type": "code",
   "execution_count": 8,
   "metadata": {},
   "outputs": [
    {
     "data": {
      "text/html": [
       "<div>\n",
       "<style scoped>\n",
       "    .dataframe tbody tr th:only-of-type {\n",
       "        vertical-align: middle;\n",
       "    }\n",
       "\n",
       "    .dataframe tbody tr th {\n",
       "        vertical-align: top;\n",
       "    }\n",
       "\n",
       "    .dataframe thead th {\n",
       "        text-align: right;\n",
       "    }\n",
       "</style>\n",
       "<table border=\"1\" class=\"dataframe\">\n",
       "  <thead>\n",
       "    <tr style=\"text-align: right;\">\n",
       "      <th></th>\n",
       "      <th>Sam</th>\n",
       "      <th>Samuel</th>\n",
       "    </tr>\n",
       "  </thead>\n",
       "  <tbody>\n",
       "    <tr>\n",
       "      <th>FruitySet1</th>\n",
       "      <td>-0.1</td>\n",
       "      <td>-0.1</td>\n",
       "    </tr>\n",
       "    <tr>\n",
       "      <th>FruitySet2</th>\n",
       "      <td>-0.1</td>\n",
       "      <td>-0.2</td>\n",
       "    </tr>\n",
       "    <tr>\n",
       "      <th>SpicySet1</th>\n",
       "      <td>0.8</td>\n",
       "      <td>0.7</td>\n",
       "    </tr>\n",
       "    <tr>\n",
       "      <th>SpicySet2</th>\n",
       "      <td>0.7</td>\n",
       "      <td>0.7</td>\n",
       "    </tr>\n",
       "  </tbody>\n",
       "</table>\n",
       "</div>"
      ],
      "text/plain": [
       "            Sam  Samuel\n",
       "FruitySet1 -0.1    -0.1\n",
       "FruitySet2 -0.1    -0.2\n",
       "SpicySet1   0.8     0.7\n",
       "SpicySet2   0.7     0.7"
      ]
     },
     "execution_count": 8,
     "metadata": {},
     "output_type": "execute_result"
    }
   ],
   "source": [
    "similar_likes = similar_likes.T\n",
    "similar_likes"
   ]
  },
  {
   "cell_type": "code",
   "execution_count": null,
   "metadata": {},
   "outputs": [],
   "source": []
  },
  {
   "cell_type": "code",
   "execution_count": 9,
   "metadata": {},
   "outputs": [
    {
     "data": {
      "text/html": [
       "<div>\n",
       "<style scoped>\n",
       "    .dataframe tbody tr th:only-of-type {\n",
       "        vertical-align: middle;\n",
       "    }\n",
       "\n",
       "    .dataframe tbody tr th {\n",
       "        vertical-align: top;\n",
       "    }\n",
       "\n",
       "    .dataframe thead th {\n",
       "        text-align: right;\n",
       "    }\n",
       "</style>\n",
       "<table border=\"1\" class=\"dataframe\">\n",
       "  <thead>\n",
       "    <tr style=\"text-align: right;\">\n",
       "      <th></th>\n",
       "      <th>FruitySet1</th>\n",
       "      <th>FruitySet2</th>\n",
       "      <th>SpicySet1</th>\n",
       "      <th>SpicySet2</th>\n",
       "    </tr>\n",
       "  </thead>\n",
       "  <tbody>\n",
       "    <tr>\n",
       "      <th>FruitySet1</th>\n",
       "      <td>1.000000</td>\n",
       "      <td>0.948683</td>\n",
       "      <td>-0.997785</td>\n",
       "      <td>-1.000000</td>\n",
       "    </tr>\n",
       "    <tr>\n",
       "      <th>FruitySet2</th>\n",
       "      <td>0.948683</td>\n",
       "      <td>1.000000</td>\n",
       "      <td>-0.925547</td>\n",
       "      <td>-0.948683</td>\n",
       "    </tr>\n",
       "    <tr>\n",
       "      <th>SpicySet1</th>\n",
       "      <td>-0.997785</td>\n",
       "      <td>-0.925547</td>\n",
       "      <td>1.000000</td>\n",
       "      <td>0.997785</td>\n",
       "    </tr>\n",
       "    <tr>\n",
       "      <th>SpicySet2</th>\n",
       "      <td>-1.000000</td>\n",
       "      <td>-0.948683</td>\n",
       "      <td>0.997785</td>\n",
       "      <td>1.000000</td>\n",
       "    </tr>\n",
       "  </tbody>\n",
       "</table>\n",
       "</div>"
      ],
      "text/plain": [
       "            FruitySet1  FruitySet2  SpicySet1  SpicySet2\n",
       "FruitySet1    1.000000    0.948683  -0.997785  -1.000000\n",
       "FruitySet2    0.948683    1.000000  -0.925547  -0.948683\n",
       "SpicySet1    -0.997785   -0.925547   1.000000   0.997785\n",
       "SpicySet2    -1.000000   -0.948683   0.997785   1.000000"
      ]
     },
     "execution_count": 9,
     "metadata": {},
     "output_type": "execute_result"
    }
   ],
   "source": [
    "#if i get cosine of curryset by curryset ,it is a similarity matrix for currysets\n",
    "#i can use this as a feature vector\n",
    "cosine_similarities = cosine_similarity(similar_likes, similar_likes) \n",
    "cosine_pd = pd.DataFrame(cosine_similarities,index=features,columns=features)\n",
    "cosine_pd"
   ]
  },
  {
   "cell_type": "code",
   "execution_count": null,
   "metadata": {},
   "outputs": [],
   "source": []
  },
  {
   "cell_type": "code",
   "execution_count": null,
   "metadata": {},
   "outputs": [],
   "source": []
  },
  {
   "cell_type": "code",
   "execution_count": 10,
   "metadata": {},
   "outputs": [],
   "source": [
    "user_id = 4\n",
    "df_byuser = df_data\n",
    "cosine_pd\n",
    "ratings = df_data"
   ]
  },
  {
   "cell_type": "code",
   "execution_count": 11,
   "metadata": {},
   "outputs": [
    {
     "data": {
      "text/plain": [
       "array([-0.1,  0. ,  0.7,  0. ])"
      ]
     },
     "execution_count": 11,
     "metadata": {},
     "output_type": "execute_result"
    }
   ],
   "source": [
    "df_byuser.iloc[user_id].values"
   ]
  },
  {
   "cell_type": "code",
   "execution_count": 12,
   "metadata": {},
   "outputs": [
    {
     "name": "stdout",
     "output_type": "stream",
     "text": [
      "how many items rated by user 2\n",
      "how many items NOT rated by user 2\n"
     ]
    }
   ],
   "source": [
    "user_row = df_byuser.iloc[user_id].values\n",
    "rated_indeces = np.argwhere(user_row != 0)\n",
    "not_rated_indeces = np.argwhere(user_row == 0)\n",
    "print(\"how many items rated by user\",len(rated_indeces))\n",
    "print(\"how many items NOT rated by user\",len(not_rated_indeces))"
   ]
  },
  {
   "cell_type": "code",
   "execution_count": 13,
   "metadata": {},
   "outputs": [
    {
     "name": "stdout",
     "output_type": "stream",
     "text": [
      "ratings by user [[-0.1]\n",
      " [ 0.7]]\n"
     ]
    }
   ],
   "source": [
    "ratings_by_new_user = user_row[rated_indeces]   \n",
    "print(\"ratings by user\",ratings_by_new_user)"
   ]
  },
  {
   "cell_type": "code",
   "execution_count": 14,
   "metadata": {},
   "outputs": [
    {
     "name": "stdout",
     "output_type": "stream",
     "text": [
      "how many items rated  positive 1\n"
     ]
    }
   ],
   "source": [
    "#now get a slice of cosine table with the items this use rated\n",
    " \n",
    "print(\"how many items rated  positive\",len(ratings_by_new_user[ratings_by_new_user>0]))        \n",
    "\n",
    "#find rated items\n",
    "rateds = cosine_pd.iloc[rated_indeces.flatten()]"
   ]
  },
  {
   "cell_type": "code",
   "execution_count": 15,
   "metadata": {},
   "outputs": [
    {
     "data": {
      "text/html": [
       "<div>\n",
       "<style scoped>\n",
       "    .dataframe tbody tr th:only-of-type {\n",
       "        vertical-align: middle;\n",
       "    }\n",
       "\n",
       "    .dataframe tbody tr th {\n",
       "        vertical-align: top;\n",
       "    }\n",
       "\n",
       "    .dataframe thead th {\n",
       "        text-align: right;\n",
       "    }\n",
       "</style>\n",
       "<table border=\"1\" class=\"dataframe\">\n",
       "  <thead>\n",
       "    <tr style=\"text-align: right;\">\n",
       "      <th></th>\n",
       "      <th>FruitySet1</th>\n",
       "      <th>FruitySet2</th>\n",
       "      <th>SpicySet1</th>\n",
       "      <th>SpicySet2</th>\n",
       "    </tr>\n",
       "  </thead>\n",
       "  <tbody>\n",
       "    <tr>\n",
       "      <th>FruitySet1</th>\n",
       "      <td>1.000000</td>\n",
       "      <td>0.948683</td>\n",
       "      <td>-0.997785</td>\n",
       "      <td>-1.000000</td>\n",
       "    </tr>\n",
       "    <tr>\n",
       "      <th>SpicySet1</th>\n",
       "      <td>-0.997785</td>\n",
       "      <td>-0.925547</td>\n",
       "      <td>1.000000</td>\n",
       "      <td>0.997785</td>\n",
       "    </tr>\n",
       "  </tbody>\n",
       "</table>\n",
       "</div>"
      ],
      "text/plain": [
       "            FruitySet1  FruitySet2  SpicySet1  SpicySet2\n",
       "FruitySet1    1.000000    0.948683  -0.997785  -1.000000\n",
       "SpicySet1    -0.997785   -0.925547   1.000000   0.997785"
      ]
     },
     "execution_count": 15,
     "metadata": {},
     "output_type": "execute_result"
    }
   ],
   "source": [
    "rateds"
   ]
  },
  {
   "cell_type": "code",
   "execution_count": 16,
   "metadata": {},
   "outputs": [
    {
     "name": "stdout",
     "output_type": "stream",
     "text": [
      "index : 0\n",
      "ratings[index]  [-0.1]\n",
      "row_values : [ 1.          0.9486833  -0.99778516 -1.        ]\n",
      "weighted_cosine : [-0.1        -0.09486833  0.09977852  0.1       ]\n",
      "index : 1\n",
      "ratings[index]  [0.7]\n",
      "row_values : [-0.99778516 -0.92554696  1.          0.99778516]\n",
      "weighted_cosine : [-0.69844961 -0.64788287  0.7         0.69844961]\n"
     ]
    },
    {
     "data": {
      "text/html": [
       "<div>\n",
       "<style scoped>\n",
       "    .dataframe tbody tr th:only-of-type {\n",
       "        vertical-align: middle;\n",
       "    }\n",
       "\n",
       "    .dataframe tbody tr th {\n",
       "        vertical-align: top;\n",
       "    }\n",
       "\n",
       "    .dataframe thead th {\n",
       "        text-align: right;\n",
       "    }\n",
       "</style>\n",
       "<table border=\"1\" class=\"dataframe\">\n",
       "  <thead>\n",
       "    <tr style=\"text-align: right;\">\n",
       "      <th></th>\n",
       "      <th>FruitySet1</th>\n",
       "      <th>FruitySet2</th>\n",
       "      <th>SpicySet1</th>\n",
       "      <th>SpicySet2</th>\n",
       "    </tr>\n",
       "  </thead>\n",
       "  <tbody>\n",
       "    <tr>\n",
       "      <th>0</th>\n",
       "      <td>-0.10000</td>\n",
       "      <td>-0.094868</td>\n",
       "      <td>0.099779</td>\n",
       "      <td>0.10000</td>\n",
       "    </tr>\n",
       "    <tr>\n",
       "      <th>1</th>\n",
       "      <td>-0.69845</td>\n",
       "      <td>-0.647883</td>\n",
       "      <td>0.700000</td>\n",
       "      <td>0.69845</td>\n",
       "    </tr>\n",
       "  </tbody>\n",
       "</table>\n",
       "</div>"
      ],
      "text/plain": [
       "   FruitySet1  FruitySet2  SpicySet1  SpicySet2\n",
       "0    -0.10000   -0.094868   0.099779    0.10000\n",
       "1    -0.69845   -0.647883   0.700000    0.69845"
      ]
     },
     "execution_count": 16,
     "metadata": {},
     "output_type": "execute_result"
    }
   ],
   "source": [
    "row_with_rating = []\n",
    "for index,row_values in enumerate(rateds.values):\n",
    "    weighted_cosine = ratings_by_new_user[index] * row_values\n",
    "    print(\"index :\",index)\n",
    "    print(\"ratings[index] \",ratings_by_new_user[index])\n",
    "    print(\"row_values :\",row_values)\n",
    "    print(\"weighted_cosine :\",weighted_cosine)\n",
    "    row_with_rating.append( weighted_cosine )\n",
    "row_with_rating\n",
    "#new_user rated rated FruitySet1  and SpicySet1\n",
    "\n",
    "#new_user rating for FruitySet1 is 0.1\n",
    "#we multiply this value FruitySet1 row of cosine table\n",
    "\n",
    "#new_user rating for SpicySet1 is 0.7\n",
    "#we multiply this value SpicySet1 row of cosine table\n",
    "pd.DataFrame(row_with_rating,columns=features)"
   ]
  },
  {
   "cell_type": "code",
   "execution_count": 17,
   "metadata": {},
   "outputs": [
    {
     "name": "stdout",
     "output_type": "stream",
     "text": [
      "row_with_rating shape  (2, 4)\n",
      "totalpoints : (4,)\n",
      "totalpoints: [-0.79844961 -0.7427512   0.79977852  0.79844961]\n"
     ]
    }
   ],
   "source": [
    "#now i have weighted values of currysets by user. so i can sum them column wise\n",
    "#and this gives me a score of how will user rate this item,by checking our previous ratings\n",
    "#as you see we predict he will like spicy food but not fruity(sweet) one\n",
    "#so i can say we captured his likes\n",
    "print(\"row_with_rating shape \",np.array(row_with_rating).shape )\n",
    "totalpoints = np.sum(row_with_rating, axis=0)\n",
    "print(\"totalpoints :\",totalpoints.shape)\n",
    "print(\"totalpoints:\",totalpoints)"
   ]
  },
  {
   "cell_type": "code",
   "execution_count": 18,
   "metadata": {},
   "outputs": [
    {
     "data": {
      "text/html": [
       "<div>\n",
       "<style scoped>\n",
       "    .dataframe tbody tr th:only-of-type {\n",
       "        vertical-align: middle;\n",
       "    }\n",
       "\n",
       "    .dataframe tbody tr th {\n",
       "        vertical-align: top;\n",
       "    }\n",
       "\n",
       "    .dataframe thead th {\n",
       "        text-align: right;\n",
       "    }\n",
       "</style>\n",
       "<table border=\"1\" class=\"dataframe\">\n",
       "  <thead>\n",
       "    <tr style=\"text-align: right;\">\n",
       "      <th></th>\n",
       "      <th>point</th>\n",
       "    </tr>\n",
       "  </thead>\n",
       "  <tbody>\n",
       "    <tr>\n",
       "      <th>FruitySet1</th>\n",
       "      <td>-0.798450</td>\n",
       "    </tr>\n",
       "    <tr>\n",
       "      <th>FruitySet2</th>\n",
       "      <td>-0.742751</td>\n",
       "    </tr>\n",
       "    <tr>\n",
       "      <th>SpicySet1</th>\n",
       "      <td>0.799779</td>\n",
       "    </tr>\n",
       "    <tr>\n",
       "      <th>SpicySet2</th>\n",
       "      <td>0.798450</td>\n",
       "    </tr>\n",
       "  </tbody>\n",
       "</table>\n",
       "</div>"
      ],
      "text/plain": [
       "               point\n",
       "FruitySet1 -0.798450\n",
       "FruitySet2 -0.742751\n",
       "SpicySet1   0.799779\n",
       "SpicySet2   0.798450"
      ]
     },
     "execution_count": 18,
     "metadata": {},
     "output_type": "execute_result"
    }
   ],
   "source": [
    "df_all=pd.DataFrame(totalpoints,columns=[\"point\"],index=features)\n",
    "df_all"
   ]
  },
  {
   "cell_type": "code",
   "execution_count": null,
   "metadata": {},
   "outputs": [],
   "source": []
  },
  {
   "cell_type": "code",
   "execution_count": null,
   "metadata": {},
   "outputs": [],
   "source": []
  },
  {
   "cell_type": "code",
   "execution_count": null,
   "metadata": {},
   "outputs": [],
   "source": []
  }
 ],
 "metadata": {
  "kernelspec": {
   "display_name": "Python 3",
   "language": "python",
   "name": "python3"
  },
  "language_info": {
   "codemirror_mode": {
    "name": "ipython",
    "version": 3
   },
   "file_extension": ".py",
   "mimetype": "text/x-python",
   "name": "python",
   "nbconvert_exporter": "python",
   "pygments_lexer": "ipython3",
   "version": "3.7.1"
  }
 },
 "nbformat": 4,
 "nbformat_minor": 2
}
