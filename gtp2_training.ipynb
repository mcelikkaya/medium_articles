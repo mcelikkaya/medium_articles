{
 "cells": [
  {
   "cell_type": "code",
   "execution_count": 1,
   "metadata": {
    "id": "ao1TIVxUTIs1"
   },
   "outputs": [],
   "source": [
    "%%capture\n",
    "!pip install transformers"
   ]
  },
  {
   "cell_type": "code",
   "execution_count": null,
   "metadata": {
    "colab": {
     "base_uri": "https://localhost:8080/"
    },
    "id": "q5X-RBbOVdIi",
    "outputId": "b8c2e93d-371f-4204-bd66-1b28747a33cd"
   },
   "outputs": [],
   "source": [
    "import warnings\n",
    "warnings.filterwarnings('ignore')\n",
    "import pandas as pd\n",
    "import torch\n",
    "from torch.utils.data import Dataset \n",
    "import random\n",
    "import time\n",
    "import datetime\n",
    "import random\n",
    "from transformers import GPT2LMHeadModel, GPT2Config\n",
    "import numpy as np\n",
    "from torch.utils.data import random_split\n",
    "from torch.utils.data import DataLoader, RandomSampler, SequentialSampler"
   ]
  },
  {
   "cell_type": "code",
   "execution_count": 1,
   "metadata": {
    "id": "uNnLqjZJTLoX"
   },
   "outputs": [],
   "source": [
    "import base64\n",
    "import requests\n",
    "\n",
    "master = \"https://raw.githubusercontent.com/mcelikkaya/medium_articles/main/japan_wiki.txt\"\n",
    "req = requests.get(master)\n",
    "req = req.text"
   ]
  },
  {
   "cell_type": "code",
   "execution_count": 2,
   "metadata": {
    "id": "ftwRWTmITNed"
   },
   "outputs": [],
   "source": [
    "all_sentences = req.split(\"\\n\")\n",
    "all_sentences = [s.replace(\"\\r\",\"\") for s in all_sentences]\n"
   ]
  },
  {
   "cell_type": "code",
   "execution_count": 3,
   "metadata": {
    "colab": {
     "base_uri": "https://localhost:8080/"
    },
    "id": "hIrR92GUTQXm",
    "outputId": "a28ee206-663f-463d-d993-5de3adc82599"
   },
   "outputs": [
    {
     "name": "stdout",
     "output_type": "stream",
     "text": [
      "sample size :  40389\n",
      "samples     : \n"
     ]
    },
    {
     "data": {
      "text/plain": [
       "['Hokkaido was formerly known as Ezo  Yezo  Yeso  or Yesso.',\n",
       " 'According to Matsuura  the name was thought up because the Ainu called the region Kai.',\n",
       " 'In contrast to the island of Honshu  Hokkaido saw an absence of conflict during this time period.',\n",
       " 'From the Middle Ages  the people in Hokkaido began to be called Ezo.',\n",
       " 'Hokkaido subsequently became known as Ezochi  蝦夷地  lit.',\n",
       " 'The disputes eventually developed into war.',\n",
       " 'Takeda Nobuhiro killed the Ainu leader  Koshamain  and defeated the opposition in 1457.',\n",
       " 'The Matsumae family s economy relied upon trade with the Ainu.',\n",
       " 'They held authority over the south of Ezochi until the end of the Edo period.',\n",
       " 'There were numerous revolts by the Ainu against the feudal rule.']"
      ]
     },
     "execution_count": 3,
     "metadata": {},
     "output_type": "execute_result"
    }
   ],
   "source": [
    "print(\"sample size : \",len(all_sentences))\n",
    "print(\"samples     : \" )\n",
    "all_sentences[0:10]"
   ]
  },
  {
   "cell_type": "code",
   "execution_count": 18,
   "metadata": {
    "colab": {
     "base_uri": "https://localhost:8080/"
    },
    "id": "97ViWfLNW8aF",
    "outputId": "74b21b2c-c6f8-436e-f2e4-ee0c7502843d"
   },
   "outputs": [
    {
     "name": "stdout",
     "output_type": "stream",
     "text": [
      "47709\n"
     ]
    }
   ],
   "source": []
  },
  {
   "cell_type": "code",
   "execution_count": 19,
   "metadata": {
    "colab": {
     "base_uri": "https://localhost:8080/",
     "height": 217,
     "referenced_widgets": [
      "b2f7a9da965c4f339b5067dc56dec80e",
      "4b2f543da43a44ce9530f7fe2aae3029",
      "45e78740a1fa4758a5f12994cb601309",
      "5a9107a0bfdc42d0ba23b1b5de0256d8",
      "93e70d6c76c0408c8b6e338214bc1a1e",
      "158317800d03435185e501b0fafd5f68",
      "7b0104f202394ac0901d1b7cb26cc5d2",
      "aa0364b58cf545d7b91954064a0a36f2",
      "e835a009a91a439d8f7bdc434c45c882",
      "76674332703d4e52b80716d443176c9a",
      "2f6d330e57a442b489e76f6087f1d13f",
      "20bcec999e294c7f9b2675c06847ec5c",
      "cd8e24b78773453d8389db178a0e9a77",
      "614bcb8d05874a09bb62232107af8339",
      "4f78f78246bb40b9a064afd35af16cd1",
      "efe8c868de1e49c6b94822fad4922c62"
     ]
    },
    "id": "UcUb_gDJXGNR",
    "outputId": "fe5f0272-da87-489b-80b7-b34f362e4da7"
   },
   "outputs": [
    {
     "data": {
      "application/vnd.jupyter.widget-view+json": {
       "model_id": "b2f7a9da965c4f339b5067dc56dec80e",
       "version_major": 2,
       "version_minor": 0
      },
      "text/plain": [
       "HBox(children=(FloatProgress(value=0.0, description='Downloading', max=1042301.0, style=ProgressStyle(descript…"
      ]
     },
     "metadata": {
      "tags": []
     },
     "output_type": "display_data"
    },
    {
     "name": "stdout",
     "output_type": "stream",
     "text": [
      "\n"
     ]
    },
    {
     "data": {
      "application/vnd.jupyter.widget-view+json": {
       "model_id": "e835a009a91a439d8f7bdc434c45c882",
       "version_major": 2,
       "version_minor": 0
      },
      "text/plain": [
       "HBox(children=(FloatProgress(value=0.0, description='Downloading', max=456318.0, style=ProgressStyle(descripti…"
      ]
     },
     "metadata": {
      "tags": []
     },
     "output_type": "display_data"
    },
    {
     "name": "stderr",
     "output_type": "stream",
     "text": [
      "Special tokens have been added in the vocabulary, make sure the associated word embedding are fine-tuned or trained.\n"
     ]
    },
    {
     "name": "stdout",
     "output_type": "stream",
     "text": [
      "\n",
      "[16504, 11790]\n",
      "[16504]\n",
      "[73, 2674, 284, 2584, 78]\n",
      "[73, 2674]\n",
      "[83, 482, 8226]\n"
     ]
    }
   ],
   "source": [
    "from transformers import GPT2Tokenizer\n",
    "#get pretrained tokenizer\n",
    "tokenizer = GPT2Tokenizer.from_pretrained('gpt2', bos_token='<sos>', eos_token='<eos>', pad_token='<pad>')\n",
    "\n",
    "#tokenizer some samples\n",
    "print( tokenizer.encode(\"Japan Tokyo\") )\n",
    "print( tokenizer.encode(\"Japan\") )\n",
    "print( tokenizer.encode(\"japan tokyo\") )\n",
    "print( tokenizer.encode(\"japan\") )\n",
    "print( tokenizer.encode(\"tokyo\") )"
   ]
  },
  {
   "cell_type": "code",
   "execution_count": 20,
   "metadata": {
    "colab": {
     "base_uri": "https://localhost:8080/"
    },
    "id": "lWPBFcMeXgep",
    "outputId": "3ca38a0b-b49a-41da-fa34-a949284c9907"
   },
   "outputs": [
    {
     "name": "stdout",
     "output_type": "stream",
     "text": [
      "max_len 85\n"
     ]
    }
   ],
   "source": [
    "max_len = max([len(tokenizer.encode(s)) for s in all_sentences])\n",
    "\n",
    "print(f\"max_len {max_len}\")"
   ]
  },
  {
   "cell_type": "code",
   "execution_count": null,
   "metadata": {
    "colab": {
     "base_uri": "https://localhost:8080/"
    },
    "id": "pKa4nvSbamMK",
    "outputId": "a7ab53a6-873c-45d6-d255-51de1b4a3e70"
   },
   "outputs": [],
   "source": []
  },
  {
   "cell_type": "code",
   "execution_count": 22,
   "metadata": {
    "id": "ow59cGUgXmns"
   },
   "outputs": [],
   "source": [
    "#since we will be feeding with sentences from wikipedia\n",
    "#we can mark beginning and end of sentences with with sos and eos\n",
    "def tokenize_seq(sent,tokenizer,max_length):\n",
    "  return tokenizer('<sos>'+ sent + '<eos>', truncation=True, max_length=max_length, padding=\"max_length\")\n",
    "\n",
    "class JapanDataset(Dataset):\n",
    "\n",
    "  def __init__(self, sentences, tokenizer, gpt2_type=\"gpt2\", max_length=max_len):\n",
    "\n",
    "    self.tokenizer = tokenizer \n",
    "    self.input_ids = []\n",
    "    self.attn_masks = []\n",
    "\n",
    "    for sentence in sentences:      \n",
    "      encodings = tokenize_seq(sentence,tokenizer,max_length)\n",
    "            \n",
    "      self.input_ids.append(torch.tensor(encodings['input_ids']))\n",
    "      self.attn_masks.append(torch.tensor(encodings['attention_mask']))\n",
    "    \n",
    "  def __len__(self):\n",
    "    return len(self.input_ids)\n",
    "\n",
    "  def __getitem__(self, idx):\n",
    "    return self.input_ids[idx], self.attn_masks[idx]   \n",
    "\n",
    "def format_time(elapsed):\n",
    "    return str(datetime.timedelta(seconds=int(round((elapsed)))))    "
   ]
  },
  {
   "cell_type": "code",
   "execution_count": 23,
   "metadata": {
    "colab": {
     "base_uri": "https://localhost:8080/"
    },
    "id": "AGiF-oauXrMt",
    "outputId": "9b2f7e66-3e10-41ee-8ccb-845ec653bbbc"
   },
   "outputs": [
    {
     "data": {
      "text/plain": [
       "13771"
      ]
     },
     "execution_count": 23,
     "metadata": {
      "tags": []
     },
     "output_type": "execute_result"
    }
   ],
   "source": [
    "import gc\n",
    "gc.collect() \n"
   ]
  },
  {
   "cell_type": "code",
   "execution_count": 24,
   "metadata": {
    "colab": {
     "base_uri": "https://localhost:8080/"
    },
    "id": "xGLZzWt1XxTE",
    "outputId": "41a429a0-c279-4f45-ab64-a9aa58503144"
   },
   "outputs": [
    {
     "name": "stdout",
     "output_type": "stream",
     "text": [
      "train_size : 42938\n",
      "val_size   : 4771\n"
     ]
    },
    {
     "data": {
      "text/plain": [
       "0"
      ]
     },
     "execution_count": 24,
     "metadata": {
      "tags": []
     },
     "output_type": "execute_result"
    }
   ],
   "source": [
    "#create an instance of Dataset\n",
    "dataset = JapanDataset(all_sentences, tokenizer, max_length=max_len)\n",
    "\n",
    "# Split into training and validation sets\n",
    "train_size = int(0.9 * len(dataset))\n",
    "val_size = len(dataset) - train_size\n",
    "\n",
    "train_set, val_set = random_split(dataset, [train_size, val_size])\n",
    "print(\"train_size :\",train_size)\n",
    "print(\"val_size   :\",val_size)\n",
    "\n",
    "gc.collect() "
   ]
  },
  {
   "cell_type": "code",
   "execution_count": 25,
   "metadata": {
    "colab": {
     "base_uri": "https://localhost:8080/"
    },
    "id": "0G7VvQUpX1K8",
    "outputId": "f0a34f35-7e8f-4240-f95d-504fae8c6f99"
   },
   "outputs": [
    {
     "data": {
      "text/plain": [
       "(tensor([50257,    39,   482,    74, 44354,   373, 15734,  1900,   355,   412,\n",
       "         10872,   220,   575,  8471,    78,   220,  3363,    78,   220,   393,\n",
       "           575,   408,    78,    13, 50258, 50259, 50259, 50259, 50259, 50259,\n",
       "         50259, 50259, 50259, 50259, 50259, 50259, 50259, 50259, 50259, 50259,\n",
       "         50259, 50259, 50259, 50259, 50259, 50259, 50259, 50259, 50259, 50259,\n",
       "         50259, 50259, 50259, 50259, 50259, 50259, 50259, 50259, 50259, 50259,\n",
       "         50259, 50259, 50259, 50259, 50259, 50259, 50259, 50259, 50259, 50259,\n",
       "         50259, 50259, 50259, 50259, 50259, 50259, 50259, 50259, 50259, 50259,\n",
       "         50259, 50259, 50259, 50259, 50259]),\n",
       " tensor([1, 1, 1, 1, 1, 1, 1, 1, 1, 1, 1, 1, 1, 1, 1, 1, 1, 1, 1, 1, 1, 1, 1, 1,\n",
       "         1, 0, 0, 0, 0, 0, 0, 0, 0, 0, 0, 0, 0, 0, 0, 0, 0, 0, 0, 0, 0, 0, 0, 0,\n",
       "         0, 0, 0, 0, 0, 0, 0, 0, 0, 0, 0, 0, 0, 0, 0, 0, 0, 0, 0, 0, 0, 0, 0, 0,\n",
       "         0, 0, 0, 0, 0, 0, 0, 0, 0, 0, 0, 0, 0]))"
      ]
     },
     "execution_count": 25,
     "metadata": {
      "tags": []
     },
     "output_type": "execute_result"
    }
   ],
   "source": [
    "#lets check a sample from dataset \n",
    "#50257 beginning of sentence token\n",
    "#50258 end of sentence token\n",
    "#50259 pad token\n",
    "dataset[0]"
   ]
  },
  {
   "cell_type": "code",
   "execution_count": 26,
   "metadata": {
    "id": "cfpgoc66X308"
   },
   "outputs": [],
   "source": [
    "#define dataloaders\n",
    "train_dataloader = DataLoader(train_set,  sampler = RandomSampler(train_set), batch_size = 32)\n",
    "validation_dataloader = DataLoader(val_set, sampler = SequentialSampler(val_set), batch_size = 32 )"
   ]
  },
  {
   "cell_type": "code",
   "execution_count": null,
   "metadata": {
    "colab": {
     "base_uri": "https://localhost:8080/",
     "height": 65,
     "referenced_widgets": [
      "d37ced4421cb42e28a7ba203a15afa14",
      "e77aa7a8f6ee43abb2fc3534e1bec7ed",
      "62778bad50b74c2c870bffd28ae24cd9",
      "7e22bdc2890f40a5b74e594bfea2912e",
      "1da67b7bd1514277b9a0088d380e23eb",
      "8c7ca39be3ba43b7973e1f7bbe601237",
      "9625d84b504f45098ab0ab574fd1c76d",
      "588d4fb334af4a71b4e1c18bd1f16547"
     ]
    },
    "id": "oSlP25CXX7pt",
    "outputId": "61a7095a-56d1-4561-eac8-ea2b319757cf"
   },
   "outputs": [],
   "source": [
    "\n"
   ]
  },
  {
   "cell_type": "code",
   "execution_count": 27,
   "metadata": {
    "id": "Gas8YKBhX-Dr"
   },
   "outputs": [],
   "source": [
    "# Create default config\n",
    "configuration = GPT2Config.from_pretrained('gpt2', output_hidden_states=False)\n",
    "# Load pretrained gpt2\n",
    "model = GPT2LMHeadModel.from_pretrained(\"gpt2\", config=configuration)\n",
    "model.resize_token_embeddings(len(tokenizer))\n",
    "\n",
    "# Create device\n",
    "device = torch.device(\"cuda\")\n",
    "model.cuda()\n",
    "\n",
    "\n",
    "optimizer = torch.optim.Adam(model.parameters(),lr = 0.0005)\n",
    "model = model.to(device)"
   ]
  },
  {
   "cell_type": "code",
   "execution_count": null,
   "metadata": {
    "colab": {
     "base_uri": "https://localhost:8080/",
     "height": 65,
     "referenced_widgets": [
      "1b5c9b0514b64105a61fe9f911ea1cc1",
      "c0136861531745c09dbaa9c53648fd58",
      "eda71ed0ed4147bc899c833e41b794b4",
      "1a809189a8c948c3a1fc1a4f1d4caf51",
      "441cfbf08b2a48bcbcc2a43694c1f975",
      "ce943f4e645a43e0a3c9775fe1e79296",
      "4cf5afecc5a541a8b173d2e3f2365a32",
      "7f38a5cfcd4c44689dfd2e7bcee62251"
     ]
    },
    "id": "0DE4QbBabMVp",
    "outputId": "346561cb-4e68-4078-8fb2-2e0ce08c8645"
   },
   "outputs": [],
   "source": []
  },
  {
   "cell_type": "code",
   "execution_count": 29,
   "metadata": {
    "id": "6mTEcCP5bPPh"
   },
   "outputs": [],
   "source": [
    "#at every step i want to check if generations are getting better.\n",
    "def eval_keywords(keywords):\n",
    "  model.eval()\n",
    "  for keyword in keywords:\n",
    "    input_seq = \"<sos> \" + keyword\n",
    "    generated = torch.tensor(tokenizer.encode(input_seq)).unsqueeze(0)\n",
    "    generated = generated.to(device)\n",
    "    sample_outputs = model.generate(\n",
    "                                generated, \n",
    "                                do_sample=True,   \n",
    "                                top_k=30, \n",
    "                                max_length = 50,\n",
    "                                top_p=0.90, \n",
    "                                num_return_sequences=2\n",
    "                                )\n",
    "    for i, sample_output in enumerate(sample_outputs):\n",
    "      print(\"{}: {}\".format(i, tokenizer.decode(sample_output, skip_special_tokens=True)))\n",
    "\n",
    "keywords = [\"Osaka\",\"Japan\",\"Kyoto\",\"Yokohama\",\"Kanto\",\"Nikko\",\"Japan has\",\"Tokyo is the\",\"Osaka is the\",\"Kyoto is the\"]"
   ]
  },
  {
   "cell_type": "code",
   "execution_count": null,
   "metadata": {
    "id": "N4xCrcUIbb6A"
   },
   "outputs": [],
   "source": []
  },
  {
   "cell_type": "code",
   "execution_count": 30,
   "metadata": {
    "id": "Cm_t8e2kSB9y"
   },
   "outputs": [],
   "source": []
  },
  {
   "cell_type": "code",
   "execution_count": 31,
   "metadata": {
    "id": "y7obimLEbVAj"
   },
   "outputs": [],
   "source": [
    "#eval_keywords( keywords )"
   ]
  },
  {
   "cell_type": "code",
   "execution_count": 32,
   "metadata": {
    "id": "AyblkN8YdnhW"
   },
   "outputs": [],
   "source": [
    "#call model with a batch of input\n",
    "def process_one_batch(batch):\n",
    "  b_input_ids = batch[0].to(device)\n",
    "  b_labels = batch[0].to(device)\n",
    "  b_masks = batch[1].to(device)\n",
    "  outputs  = model(b_input_ids,  attention_mask = b_masks,labels=b_labels)\n",
    "  return outputs\n",
    "\n",
    "#do one epoch for training\n",
    "def train_epoch():\n",
    "  t0 = time.time()\n",
    "  total_train_loss = 0\n",
    "  model.train()\n",
    "  for step, batch in enumerate(train_dataloader):\n",
    "        \n",
    "        model.zero_grad()        \n",
    "        outputs = process_one_batch( batch)\n",
    "        loss = outputs[0]  \n",
    "        batch_loss = loss.item()\n",
    "        total_train_loss += batch_loss\n",
    "\n",
    "        loss.backward()\n",
    "        optimizer.step()\n",
    "\n",
    "        \n",
    "  avg_train_loss = total_train_loss / len(train_dataloader)  \n",
    "  print(\"avg_train_loss\",avg_train_loss)  \n",
    "  elapsed_time = format_time(time.time() - t0)\n",
    "  print(\"elapsed time for 1 training epoch : \",elapsed_time)\n",
    "\n",
    "#do one epoch for eval\n",
    "def eval_epoch():\n",
    "  t0 = time.time()\n",
    "  total_eval_loss = 0\n",
    "  nb_eval_steps = 0\n",
    "  # Evaluate data for one epoch\n",
    "  for batch in validation_dataloader:            \n",
    "        \n",
    "    with torch.no_grad():        \n",
    "      outputs = process_one_batch( batch)\n",
    "      loss = outputs[0]              \n",
    "      batch_loss = loss.item()\n",
    "      total_eval_loss += batch_loss         \n",
    "\n",
    "  avg_val_loss = total_eval_loss / len(validation_dataloader)\n",
    "  print(\"avg_val_loss\",avg_val_loss) \n",
    "  elapsed_time = format_time(time.time() - t0)\n",
    "  print(\"elapsed time for 1 eval epoch : \",elapsed_time)"
   ]
  },
  {
   "cell_type": "code",
   "execution_count": 33,
   "metadata": {
    "colab": {
     "base_uri": "https://localhost:8080/"
    },
    "id": "J6Z-tcNZmeKl",
    "outputId": "0dc26d74-2e8a-4a2b-9d32-39c11d4ef932"
   },
   "outputs": [
    {
     "name": "stdout",
     "output_type": "stream",
     "text": [
      "avg_train_loss 0.9285519781748691\n",
      "elapsed time for 1 training epoch :  0:16:46\n",
      "avg_val_loss 0.776570185025533\n",
      "elapsed time for 1 eval epoch :  0:00:40\n",
      "0:  Osaka City  Japan.\n",
      "1:  Osaka  洋酢   the main shopping district in Osaka  is the largest shopping mall in Japan.\n",
      "0:  Japan s population growth rate is estimated at 2  by 2050.\n",
      "1:  Japan  快酢  lit.\n",
      "0:  Kyoto has one of the world s highest natural gas reserves  the largest by volume in the world.\n",
      "1:  Kyoto   平田聞境   Aomori Ichiran.\n",
      "0:  Yokohama became the first Japanese city to host the 1964 Summer Olympics.\n",
      "1:  Yokohama  石田の扛島  is the city of Toyosu in Japan.\n",
      "0:  Kanto is the most populous island in the area.\n",
      "1:  Kanto is the most populous province of Japan.\n",
      "0:  Nikko  奀  is a type of rice cake made of rice rice flour.\n",
      "1:  Nikko Giongård  a member of the Danish Parliament  was appointed the first Prime Minister.\n",
      "0:  Japan has the third highest death toll in the world  after the United States and Italy.\n",
      "1:  Japan has won the bronze medal in the Games  the most medals by any country.\n",
      "0:  Tokyo is the capital of the Hachijō region.\n",
      "1:  Tokyo is the only Asian country to have participated in the Tokyo Peace Memorial Games.\n",
      "0:  Osaka is the largest city in Japan  ranked 11th out of 34 top 20 city cities.\n",
      "1:  Osaka is the national football stadium in the Japan National Basketball team.\n",
      "0:  Kyoto is the largest city in the country  located in the prefecture of Honshu.\n",
      "1:  Kyoto is the most populous city in the world  with around 5.5 million inhabitants in 2016.\n"
     ]
    }
   ],
   "source": [
    "#train eval 1 cycle\n",
    "#then create sample sentences\n",
    "train_epoch()\n",
    "eval_epoch()\n",
    "eval_keywords( keywords )"
   ]
  },
  {
   "cell_type": "code",
   "execution_count": 34,
   "metadata": {
    "colab": {
     "base_uri": "https://localhost:8080/"
    },
    "id": "4o2oXR789BEH",
    "outputId": "8a95bd59-ebdd-4f84-e717-051ab2cca29f"
   },
   "outputs": [
    {
     "name": "stdout",
     "output_type": "stream",
     "text": [
      "avg_train_loss 0.6879545370708102\n",
      "elapsed time for 1 training epoch :  0:17:06\n",
      "avg_val_loss 0.7604602559407552\n",
      "elapsed time for 1 eval epoch :  0:00:40\n",
      "0:  Osaka  The Life of Tokugawa Yorinori.\n",
      "1:  Osaka   Kobe University of Tokyo.\n",
      "0:  Japan s Modern History  Transnational Memory  Cultural Memory  and Culture.\n",
      "1:  Japan s Great Northern Magellan and the Origins of its Pacific War.\n",
      "0:  Kyoto  Osaka  Tokyo  Nagoya  Nagoya  Kobe  Kyoto University.\n",
      "1:  Kyoto  A Japanese Military History of Japan.\n",
      "0:  Yokohama  Tokyo Bay  Japan.\n",
      "1:  Yokohama Castle  Yakuza Monogatari.\n",
      "0:  Kanto  閑立  \n",
      "Hokusai  閑立    or   Hakushikari  閑立    lit.   Hakushu  \n",
      "1:  Kanto Kansai Shinkai  日本誓事文堂  in Japanese.\n",
      "0:  Nikko Yūkawa\n",
      "An Illustrated Encyclopedia of Japan  1st ed..\n",
      "1:  Nikko Naruhito\n",
      "The Tale of Two Sisters  The Life of a Mom.\n",
      "0:  Japan has never been a strong patron of foreign languages.\n",
      "1:  Japan has no significant domestic reserves in the sea.\n",
      "0:  Tokyo is the most populous city and the second smallest in the prefecture.\n",
      "1:  Tokyo is the largest metropolitan area of Japan.\n",
      "0:  Osaka is the only prefectural prefecture where Osaka Prefecture is located.\n",
      "1:  Osaka is the prefectural capital of Japan.\n",
      "0:  Kyoto is the capital and largest city in Japan.\n",
      "1:  Kyoto is the most important and largest city in Japan.\n"
     ]
    }
   ],
   "source": [
    "train_epoch()\n",
    "eval_epoch()\n",
    "eval_keywords( keywords )"
   ]
  },
  {
   "cell_type": "code",
   "execution_count": 35,
   "metadata": {
    "colab": {
     "base_uri": "https://localhost:8080/"
    },
    "id": "wiQCDhxmmeG-",
    "outputId": "b37c8a47-d2f9-40ac-cda6-2a89a889a329"
   },
   "outputs": [
    {
     "name": "stdout",
     "output_type": "stream",
     "text": [
      "avg_train_loss 0.5925561110371094\n",
      "elapsed time for 1 training epoch :  0:17:05\n",
      "avg_val_loss 0.7761015864213308\n",
      "elapsed time for 1 eval epoch :  0:00:40\n",
      "0:  Osaka   Methodist publishing house  永原祬県  Shukkeikan Shukkeikan   kabuki  is a famous kabuki theater in Japan.\n",
      "1:  Osaka   Shrines and the Shrines of the Osaka Plain   in Japanese.\n",
      "0:  Japan s Anti Nucleararmament Act of 1925  The Politics of the Twenty One States.\n",
      "1:  Japan s population has surpassed 600 million by 2050—and will surpass that by 2050.\n",
      "0:  Kyoto  Kodansha International  1989.\n",
      "1:  Kyoto  Hakata Shiga – Hakata Shiga – Hakata Shiga\n",
      "Hirohirose  Tomohuki   Kato Mie  Sugata  Hōshi  Tetsu  Masatari  Kato\n",
      "0:  Yokohama   University of Michigan Press.\n",
      "1:  Yokohama    The largest city and metropolitan area in Japan.\n",
      "0:  Kanto Kita no Hironi  The Tale of Genji.\n",
      "1:  Kanto   which means  high   is the mountain above the Sea of Japan  山館   the Sea of Japan  山�    a.e.g.\n",
      "0:  Nikko Koškěi – Škubyŋ   head of state   lit.   the head of parliament .\n",
      "1:  Nikko  The Japanese Naval Academy from the Early Edo Period. \n",
      "0:  Japan has the sixth largest contingent of soldiers  28 941.7 .\n",
      "1:  Japan has been the world s tenth largest publisher of scientific papers in the year 2019.\n",
      "0:  Tokyo is the most visited city  with a population of around 912 925 784 per km  2015.\n",
      "1:  Tokyo is the largest city  and has a metropolitan population of 1.8 million people.\n",
      "0:  Osaka is the capital of Japan s economy  with a population of around 9.9 million.\n",
      "1:  Osaka is the only major city which has no schools catering to expatriate children.\n",
      "0:  Kyoto is the city s main transportation hub  with connections to other regions in the city.\n",
      "1:  Kyoto is the capital of Japan  and has a population of 1.7 million people.\n"
     ]
    }
   ],
   "source": [
    "train_epoch()\n",
    "eval_epoch()\n",
    "eval_keywords( keywords )"
   ]
  },
  {
   "cell_type": "code",
   "execution_count": 36,
   "metadata": {
    "colab": {
     "base_uri": "https://localhost:8080/"
    },
    "id": "Jr-2alFxmeE3",
    "outputId": "40968ea7-087c-4bc1-bb87-ef8336260c71"
   },
   "outputs": [
    {
     "name": "stdout",
     "output_type": "stream",
     "text": [
      "avg_train_loss 0.5100571858056789\n",
      "elapsed time for 1 training epoch :  0:17:06\n",
      "avg_val_loss 0.8096200331052145\n",
      "elapsed time for 1 eval epoch :  0:00:40\n",
      "0:  Osaka  Methodist publishing house.\n",
      "1:  Osaka   Tokyo  Kansai  Kansai International.\n",
      "0:  Japan s foreign diplomatic system  in Japanese.\n",
      "1:  Japan  Japanism  and the Japanese Miracle  1922–1941. \n",
      "0:  Kyoto  a Japanese major exporter  is located in Kyoto.\n",
      "1:  Kyoto  Tokyo  Shochu  Kansai  Hanyaku  Kansai Togidaro  eds.\n",
      "0:  Yokohama was also a founding member of the ICAFF  the first international association for the sport.\n",
      "1:  Yokohama Prefecture 住治県  Yokohama ken  is a prefecture of Japan located on the island of Kyūshū.\n",
      "0:  Kanto Island   – formerly Kansai I.\n",
      "Kanto Airport  Kansai International Airport  Kansai International Airport  Kobe.\n",
      "1:  Kanto was located at the heart of the Seto Inland Sea  which separates Japan from the others. \n",
      "0:  Nikko Krim won the bronze with a score of 1 117.776 seconds.\n",
      "1:  Nikko Hachiman   born 1954  Director of A Grove  1956  and Hachiman Mikami  2005.\n",
      "0:  Japan has 111 active volcanoes.\n",
      "1:  Japan has had a de facto established air gateway for Japan since at 1 00 p.m.\n",
      "0:  Tokyo is the top market for Japanese food.\n",
      "1:  Tokyo is the world s largest exporter and second largest importer.\n",
      "0:  Osaka is the worst affected prefecture for the COVID 19 virus  which was first reported in\n",
      "1:  Osaka is the capital and largest island  with a population exceeding 1.5 million.\n",
      "0:  Kyoto is the largest Japanese advertising agency.\n",
      "1:  Kyoto is the country s most prosperous economic center and has the second largest economy.\n"
     ]
    }
   ],
   "source": [
    "train_epoch()\n",
    "eval_epoch()\n",
    "eval_keywords( keywords )"
   ]
  },
  {
   "cell_type": "code",
   "execution_count": 37,
   "metadata": {
    "colab": {
     "base_uri": "https://localhost:8080/"
    },
    "id": "gSmMqqk8meBr",
    "outputId": "527b1118-b2df-4882-a7f8-5bdc2a2fe7c2"
   },
   "outputs": [
    {
     "name": "stdout",
     "output_type": "stream",
     "text": [
      "avg_train_loss 0.4388331177737425\n",
      "elapsed time for 1 training epoch :  0:17:07\n",
      "avg_val_loss 0.857030572493871\n",
      "elapsed time for 1 eval epoch :  0:00:40\n",
      "0:  Osaka  Kodansha International   1998.\n",
      "1:  Osaka    listen   is a Commercial City of Japan.\n",
      "0:  Japan is the only country within the G7 to still own a mobile phone.\n",
      "1:  Japan s Changing Defense Policy   Politics and Economics.\n",
      "0:  Kyoto     Tottori – Iwo Island   \n",
      "\n",
      "Tottori was previously called Kyushu  ʔʔtōn.\n",
      "1:  Kyoto  Kodansha Ltd. 1993. p. 943–98.\n",
      "0:  Yokohama and Tokyo were designated as  key station for  U.S..\n",
      "1:  Yokohama Expressway forks from the Chūgoku Expressway at Kita Hiroshima and stretches from Chūgoku Station.\n",
      "0:  Kanto     \n",
      "Kanto s dialects are split into three parts  dialect   i.e.\n",
      "1:  Kanto Island  \n",
      "Yoshima Island   or Yoshima Island \n",
      "\n",
      "\n",
      "   References   \n",
      "\n",
      "\n",
      "  Further reading  \n",
      "Akiba  2000.\n",
      "0:  Nikko Filipinos  Japanese    Tatopoulos  Frank.\n",
      "1:  Nikko Popov has been a member of the Eurovision Song Contest since 1997.\n",
      "0:  Japan has its national dish  Japanese curry!\n",
      "1:  Japan has 111 active volcanoes.\n",
      "0:  Tokyo is the most populous market for the entire Japanese population.\n",
      "1:  Tokyo is the 43rd largest market for Toyota  and 16th largest market for Suzuki.\n",
      "0:  Osaka is the most prosperous time for industrial growth in Japan.\n",
      "1:  Osaka is the oldest major metropolis in Japan  followed by Kyoto in the 16th century.\n",
      "0:  Kyoto is the industrial center of the prefecture.\n",
      "1:  Kyoto is the home of the headquarters of Toyota  Inc. in Marcella.\n"
     ]
    }
   ],
   "source": [
    "train_epoch()\n",
    "eval_epoch()\n",
    "eval_keywords( keywords )"
   ]
  },
  {
   "cell_type": "code",
   "execution_count": 38,
   "metadata": {
    "colab": {
     "base_uri": "https://localhost:8080/"
    },
    "id": "dQKl1pdmmd_E",
    "outputId": "4d4bfa00-6240-468d-c735-02e58a66cf72"
   },
   "outputs": [
    {
     "name": "stdout",
     "output_type": "stream",
     "text": [
      "avg_train_loss 0.3771453394308886\n",
      "elapsed time for 1 training epoch :  0:17:09\n",
      "avg_val_loss 0.9076750135421753\n",
      "elapsed time for 1 eval epoch :  0:00:40\n",
      "0:  Osaka  New York  Kodansha International  1979  pp.\n",
      "1:  Osaka  Chiyoda Tokyo  Osaka Chiyoda  Chiyoda Seiyama Gahōsha アシェット報構本麿  アシェット報��\n",
      "0:  Japan s World Cities  Tokyo  Nagano  Shirokuma Yatosei  Taito Ward  1999.\n",
      "1:  Japan at the Crossroads  Conflict and Compromise after Anpo. \n",
      "0:  Kyoto \n",
      "The place of my religion is Zen meditation  which forms the Buddhist religion of Japan.\n",
      "1:  Kyoto  Shrines and Buddhist Convent in Kyoto  Chiyoda  2002   92 pp.\n",
      "0:  Yokohama  Ponsonby Memorial Society. \n",
      "1:  Yokohama   Ponsonby Memorial Society. \n",
      "0:  Kanto   which in turn was influenced by westernization.\n",
      "1:  Kanto      or  ho  is not a final word.\n",
      "0:  Nikko Tange presented it to him on November 6  2008.\n",
      "1:  Nikko and Romko in Japan  A History  1959 \n",
      "Shiga s education became largely free.\n",
      "0:  Japan has been a landlocked country since the end of the late 19th century. \n",
      "1:  Japan has a strong tradition of women s ice hockey.\n",
      "0:  Tokyo is the largest financial center of the world.\n",
      "1:  Tokyo is the second largest metropolitan economy in the world  next to China.\n",
      "0:  Osaka is the industrial center of Japan. \n",
      "1:  Osaka is the capital and largest of the Okayama area  with a population of 1 593 000.\n",
      "0:  Kyoto is the setting of the famous hyuganatsu garden.\n",
      "1:  Kyoto is the southernmost tip of the main islands of Japan.\n"
     ]
    }
   ],
   "source": [
    "train_epoch()\n",
    "eval_epoch()\n",
    "eval_keywords( keywords )"
   ]
  },
  {
   "cell_type": "code",
   "execution_count": 34,
   "metadata": {
    "id": "9r2DWM0Fmd8I"
   },
   "outputs": [],
   "source": []
  },
  {
   "cell_type": "code",
   "execution_count": 34,
   "metadata": {
    "id": "pAbFhVq4md5A"
   },
   "outputs": [],
   "source": []
  },
  {
   "cell_type": "code",
   "execution_count": 34,
   "metadata": {
    "id": "JYBC4lqF18Fb"
   },
   "outputs": [],
   "source": []
  },
  {
   "cell_type": "code",
   "execution_count": 34,
   "metadata": {
    "id": "Xny5gV6Q179P"
   },
   "outputs": [],
   "source": []
  },
  {
   "cell_type": "code",
   "execution_count": 34,
   "metadata": {
    "id": "3DTUJWEe170y"
   },
   "outputs": [],
   "source": []
  },
  {
   "cell_type": "code",
   "execution_count": 34,
   "metadata": {
    "id": "EiBBofMBd5aq"
   },
   "outputs": [],
   "source": []
  },
  {
   "cell_type": "code",
   "execution_count": 34,
   "metadata": {
    "id": "ht1mvOQBd5Yx"
   },
   "outputs": [],
   "source": []
  },
  {
   "cell_type": "code",
   "execution_count": 34,
   "metadata": {
    "id": "YjRDAUPyd5Vn"
   },
   "outputs": [],
   "source": []
  },
  {
   "cell_type": "code",
   "execution_count": 34,
   "metadata": {
    "id": "bfz8IWvqd5Rr"
   },
   "outputs": [],
   "source": []
  },
  {
   "cell_type": "code",
   "execution_count": 34,
   "metadata": {
    "id": "ZkGSreMYd5N0"
   },
   "outputs": [],
   "source": []
  },
  {
   "cell_type": "code",
   "execution_count": 34,
   "metadata": {
    "id": "Abn6KkIjiMgk"
   },
   "outputs": [],
   "source": []
  },
  {
   "cell_type": "code",
   "execution_count": 34,
   "metadata": {
    "id": "AtenZ_6UiMal"
   },
   "outputs": [],
   "source": []
  },
  {
   "cell_type": "code",
   "execution_count": 34,
   "metadata": {
    "id": "1kNrNfpjiMUt"
   },
   "outputs": [],
   "source": []
  },
  {
   "cell_type": "code",
   "execution_count": 34,
   "metadata": {
    "id": "QS6gcINjiMLE"
   },
   "outputs": [],
   "source": []
  },
  {
   "cell_type": "code",
   "execution_count": 34,
   "metadata": {
    "id": "C4jiP5tDgcbG"
   },
   "outputs": [],
   "source": []
  },
  {
   "cell_type": "code",
   "execution_count": 34,
   "metadata": {
    "id": "MsW0jU6kg5BS"
   },
   "outputs": [],
   "source": []
  },
  {
   "cell_type": "code",
   "execution_count": 34,
   "metadata": {
    "id": "wmEPHyKW0VQu"
   },
   "outputs": [],
   "source": []
  },
  {
   "cell_type": "code",
   "execution_count": 34,
   "metadata": {
    "id": "zlbfnc2mnGEZ"
   },
   "outputs": [],
   "source": []
  },
  {
   "cell_type": "code",
   "execution_count": 34,
   "metadata": {
    "id": "jeFiqJasnIuw"
   },
   "outputs": [],
   "source": []
  },
  {
   "cell_type": "code",
   "execution_count": 34,
   "metadata": {
    "id": "dhuL5uXbnIsu"
   },
   "outputs": [],
   "source": []
  },
  {
   "cell_type": "code",
   "execution_count": 34,
   "metadata": {
    "id": "qpa3PqYrnIpb"
   },
   "outputs": [],
   "source": []
  },
  {
   "cell_type": "code",
   "execution_count": 34,
   "metadata": {
    "id": "sqyvdhVtnIcD"
   },
   "outputs": [],
   "source": []
  },
  {
   "cell_type": "code",
   "execution_count": 34,
   "metadata": {
    "id": "-Jv6fvKubWc7"
   },
   "outputs": [],
   "source": [
    "\n"
   ]
  },
  {
   "cell_type": "code",
   "execution_count": 34,
   "metadata": {
    "id": "7lgB-p9Lbigd"
   },
   "outputs": [],
   "source": []
  },
  {
   "cell_type": "code",
   "execution_count": 34,
   "metadata": {
    "id": "R-2S7RN2fSIk"
   },
   "outputs": [],
   "source": []
  }
 ],
 "metadata": {
  "accelerator": "GPU",
  "colab": {
   "collapsed_sections": [],
   "name": "gtp2_v1.ipynb",
   "provenance": []
  },
  "kernelspec": {
   "display_name": "Python 3",
   "language": "python",
   "name": "python3"
  },
  "language_info": {
   "codemirror_mode": {
    "name": "ipython",
    "version": 3
   },
   "file_extension": ".py",
   "mimetype": "text/x-python",
   "name": "python",
   "nbconvert_exporter": "python",
   "pygments_lexer": "ipython3",
   "version": "3.7.9"
  },
  "widgets": {
   "application/vnd.jupyter.widget-state+json": {
    "158317800d03435185e501b0fafd5f68": {
     "model_module": "@jupyter-widgets/base",
     "model_name": "LayoutModel",
     "state": {
      "_model_module": "@jupyter-widgets/base",
      "_model_module_version": "1.2.0",
      "_model_name": "LayoutModel",
      "_view_count": null,
      "_view_module": "@jupyter-widgets/base",
      "_view_module_version": "1.2.0",
      "_view_name": "LayoutView",
      "align_content": null,
      "align_items": null,
      "align_self": null,
      "border": null,
      "bottom": null,
      "display": null,
      "flex": null,
      "flex_flow": null,
      "grid_area": null,
      "grid_auto_columns": null,
      "grid_auto_flow": null,
      "grid_auto_rows": null,
      "grid_column": null,
      "grid_gap": null,
      "grid_row": null,
      "grid_template_areas": null,
      "grid_template_columns": null,
      "grid_template_rows": null,
      "height": null,
      "justify_content": null,
      "justify_items": null,
      "left": null,
      "margin": null,
      "max_height": null,
      "max_width": null,
      "min_height": null,
      "min_width": null,
      "object_fit": null,
      "object_position": null,
      "order": null,
      "overflow": null,
      "overflow_x": null,
      "overflow_y": null,
      "padding": null,
      "right": null,
      "top": null,
      "visibility": null,
      "width": null
     }
    },
    "1a809189a8c948c3a1fc1a4f1d4caf51": {
     "model_module": "@jupyter-widgets/controls",
     "model_name": "HTMLModel",
     "state": {
      "_dom_classes": [],
      "_model_module": "@jupyter-widgets/controls",
      "_model_module_version": "1.5.0",
      "_model_name": "HTMLModel",
      "_view_count": null,
      "_view_module": "@jupyter-widgets/controls",
      "_view_module_version": "1.5.0",
      "_view_name": "HTMLView",
      "description": "",
      "description_tooltip": null,
      "layout": "IPY_MODEL_7f38a5cfcd4c44689dfd2e7bcee62251",
      "placeholder": "​",
      "style": "IPY_MODEL_4cf5afecc5a541a8b173d2e3f2365a32",
      "value": " 548M/548M [00:09&lt;00:00, 55.4MB/s]"
     }
    },
    "1b5c9b0514b64105a61fe9f911ea1cc1": {
     "model_module": "@jupyter-widgets/controls",
     "model_name": "HBoxModel",
     "state": {
      "_dom_classes": [],
      "_model_module": "@jupyter-widgets/controls",
      "_model_module_version": "1.5.0",
      "_model_name": "HBoxModel",
      "_view_count": null,
      "_view_module": "@jupyter-widgets/controls",
      "_view_module_version": "1.5.0",
      "_view_name": "HBoxView",
      "box_style": "",
      "children": [
       "IPY_MODEL_eda71ed0ed4147bc899c833e41b794b4",
       "IPY_MODEL_1a809189a8c948c3a1fc1a4f1d4caf51"
      ],
      "layout": "IPY_MODEL_c0136861531745c09dbaa9c53648fd58"
     }
    },
    "1da67b7bd1514277b9a0088d380e23eb": {
     "model_module": "@jupyter-widgets/controls",
     "model_name": "ProgressStyleModel",
     "state": {
      "_model_module": "@jupyter-widgets/controls",
      "_model_module_version": "1.5.0",
      "_model_name": "ProgressStyleModel",
      "_view_count": null,
      "_view_module": "@jupyter-widgets/base",
      "_view_module_version": "1.2.0",
      "_view_name": "StyleView",
      "bar_color": null,
      "description_width": "initial"
     }
    },
    "20bcec999e294c7f9b2675c06847ec5c": {
     "model_module": "@jupyter-widgets/controls",
     "model_name": "HTMLModel",
     "state": {
      "_dom_classes": [],
      "_model_module": "@jupyter-widgets/controls",
      "_model_module_version": "1.5.0",
      "_model_name": "HTMLModel",
      "_view_count": null,
      "_view_module": "@jupyter-widgets/controls",
      "_view_module_version": "1.5.0",
      "_view_name": "HTMLView",
      "description": "",
      "description_tooltip": null,
      "layout": "IPY_MODEL_efe8c868de1e49c6b94822fad4922c62",
      "placeholder": "​",
      "style": "IPY_MODEL_4f78f78246bb40b9a064afd35af16cd1",
      "value": " 456k/456k [00:00&lt;00:00, 1.00MB/s]"
     }
    },
    "2f6d330e57a442b489e76f6087f1d13f": {
     "model_module": "@jupyter-widgets/controls",
     "model_name": "FloatProgressModel",
     "state": {
      "_dom_classes": [],
      "_model_module": "@jupyter-widgets/controls",
      "_model_module_version": "1.5.0",
      "_model_name": "FloatProgressModel",
      "_view_count": null,
      "_view_module": "@jupyter-widgets/controls",
      "_view_module_version": "1.5.0",
      "_view_name": "ProgressView",
      "bar_style": "success",
      "description": "Downloading: 100%",
      "description_tooltip": null,
      "layout": "IPY_MODEL_614bcb8d05874a09bb62232107af8339",
      "max": 456318,
      "min": 0,
      "orientation": "horizontal",
      "style": "IPY_MODEL_cd8e24b78773453d8389db178a0e9a77",
      "value": 456318
     }
    },
    "441cfbf08b2a48bcbcc2a43694c1f975": {
     "model_module": "@jupyter-widgets/controls",
     "model_name": "ProgressStyleModel",
     "state": {
      "_model_module": "@jupyter-widgets/controls",
      "_model_module_version": "1.5.0",
      "_model_name": "ProgressStyleModel",
      "_view_count": null,
      "_view_module": "@jupyter-widgets/base",
      "_view_module_version": "1.2.0",
      "_view_name": "StyleView",
      "bar_color": null,
      "description_width": "initial"
     }
    },
    "45e78740a1fa4758a5f12994cb601309": {
     "model_module": "@jupyter-widgets/controls",
     "model_name": "FloatProgressModel",
     "state": {
      "_dom_classes": [],
      "_model_module": "@jupyter-widgets/controls",
      "_model_module_version": "1.5.0",
      "_model_name": "FloatProgressModel",
      "_view_count": null,
      "_view_module": "@jupyter-widgets/controls",
      "_view_module_version": "1.5.0",
      "_view_name": "ProgressView",
      "bar_style": "success",
      "description": "Downloading: 100%",
      "description_tooltip": null,
      "layout": "IPY_MODEL_158317800d03435185e501b0fafd5f68",
      "max": 1042301,
      "min": 0,
      "orientation": "horizontal",
      "style": "IPY_MODEL_93e70d6c76c0408c8b6e338214bc1a1e",
      "value": 1042301
     }
    },
    "4b2f543da43a44ce9530f7fe2aae3029": {
     "model_module": "@jupyter-widgets/base",
     "model_name": "LayoutModel",
     "state": {
      "_model_module": "@jupyter-widgets/base",
      "_model_module_version": "1.2.0",
      "_model_name": "LayoutModel",
      "_view_count": null,
      "_view_module": "@jupyter-widgets/base",
      "_view_module_version": "1.2.0",
      "_view_name": "LayoutView",
      "align_content": null,
      "align_items": null,
      "align_self": null,
      "border": null,
      "bottom": null,
      "display": null,
      "flex": null,
      "flex_flow": null,
      "grid_area": null,
      "grid_auto_columns": null,
      "grid_auto_flow": null,
      "grid_auto_rows": null,
      "grid_column": null,
      "grid_gap": null,
      "grid_row": null,
      "grid_template_areas": null,
      "grid_template_columns": null,
      "grid_template_rows": null,
      "height": null,
      "justify_content": null,
      "justify_items": null,
      "left": null,
      "margin": null,
      "max_height": null,
      "max_width": null,
      "min_height": null,
      "min_width": null,
      "object_fit": null,
      "object_position": null,
      "order": null,
      "overflow": null,
      "overflow_x": null,
      "overflow_y": null,
      "padding": null,
      "right": null,
      "top": null,
      "visibility": null,
      "width": null
     }
    },
    "4cf5afecc5a541a8b173d2e3f2365a32": {
     "model_module": "@jupyter-widgets/controls",
     "model_name": "DescriptionStyleModel",
     "state": {
      "_model_module": "@jupyter-widgets/controls",
      "_model_module_version": "1.5.0",
      "_model_name": "DescriptionStyleModel",
      "_view_count": null,
      "_view_module": "@jupyter-widgets/base",
      "_view_module_version": "1.2.0",
      "_view_name": "StyleView",
      "description_width": ""
     }
    },
    "4f78f78246bb40b9a064afd35af16cd1": {
     "model_module": "@jupyter-widgets/controls",
     "model_name": "DescriptionStyleModel",
     "state": {
      "_model_module": "@jupyter-widgets/controls",
      "_model_module_version": "1.5.0",
      "_model_name": "DescriptionStyleModel",
      "_view_count": null,
      "_view_module": "@jupyter-widgets/base",
      "_view_module_version": "1.2.0",
      "_view_name": "StyleView",
      "description_width": ""
     }
    },
    "588d4fb334af4a71b4e1c18bd1f16547": {
     "model_module": "@jupyter-widgets/base",
     "model_name": "LayoutModel",
     "state": {
      "_model_module": "@jupyter-widgets/base",
      "_model_module_version": "1.2.0",
      "_model_name": "LayoutModel",
      "_view_count": null,
      "_view_module": "@jupyter-widgets/base",
      "_view_module_version": "1.2.0",
      "_view_name": "LayoutView",
      "align_content": null,
      "align_items": null,
      "align_self": null,
      "border": null,
      "bottom": null,
      "display": null,
      "flex": null,
      "flex_flow": null,
      "grid_area": null,
      "grid_auto_columns": null,
      "grid_auto_flow": null,
      "grid_auto_rows": null,
      "grid_column": null,
      "grid_gap": null,
      "grid_row": null,
      "grid_template_areas": null,
      "grid_template_columns": null,
      "grid_template_rows": null,
      "height": null,
      "justify_content": null,
      "justify_items": null,
      "left": null,
      "margin": null,
      "max_height": null,
      "max_width": null,
      "min_height": null,
      "min_width": null,
      "object_fit": null,
      "object_position": null,
      "order": null,
      "overflow": null,
      "overflow_x": null,
      "overflow_y": null,
      "padding": null,
      "right": null,
      "top": null,
      "visibility": null,
      "width": null
     }
    },
    "5a9107a0bfdc42d0ba23b1b5de0256d8": {
     "model_module": "@jupyter-widgets/controls",
     "model_name": "HTMLModel",
     "state": {
      "_dom_classes": [],
      "_model_module": "@jupyter-widgets/controls",
      "_model_module_version": "1.5.0",
      "_model_name": "HTMLModel",
      "_view_count": null,
      "_view_module": "@jupyter-widgets/controls",
      "_view_module_version": "1.5.0",
      "_view_name": "HTMLView",
      "description": "",
      "description_tooltip": null,
      "layout": "IPY_MODEL_aa0364b58cf545d7b91954064a0a36f2",
      "placeholder": "​",
      "style": "IPY_MODEL_7b0104f202394ac0901d1b7cb26cc5d2",
      "value": " 1.04M/1.04M [00:01&lt;00:00, 702kB/s]"
     }
    },
    "614bcb8d05874a09bb62232107af8339": {
     "model_module": "@jupyter-widgets/base",
     "model_name": "LayoutModel",
     "state": {
      "_model_module": "@jupyter-widgets/base",
      "_model_module_version": "1.2.0",
      "_model_name": "LayoutModel",
      "_view_count": null,
      "_view_module": "@jupyter-widgets/base",
      "_view_module_version": "1.2.0",
      "_view_name": "LayoutView",
      "align_content": null,
      "align_items": null,
      "align_self": null,
      "border": null,
      "bottom": null,
      "display": null,
      "flex": null,
      "flex_flow": null,
      "grid_area": null,
      "grid_auto_columns": null,
      "grid_auto_flow": null,
      "grid_auto_rows": null,
      "grid_column": null,
      "grid_gap": null,
      "grid_row": null,
      "grid_template_areas": null,
      "grid_template_columns": null,
      "grid_template_rows": null,
      "height": null,
      "justify_content": null,
      "justify_items": null,
      "left": null,
      "margin": null,
      "max_height": null,
      "max_width": null,
      "min_height": null,
      "min_width": null,
      "object_fit": null,
      "object_position": null,
      "order": null,
      "overflow": null,
      "overflow_x": null,
      "overflow_y": null,
      "padding": null,
      "right": null,
      "top": null,
      "visibility": null,
      "width": null
     }
    },
    "62778bad50b74c2c870bffd28ae24cd9": {
     "model_module": "@jupyter-widgets/controls",
     "model_name": "FloatProgressModel",
     "state": {
      "_dom_classes": [],
      "_model_module": "@jupyter-widgets/controls",
      "_model_module_version": "1.5.0",
      "_model_name": "FloatProgressModel",
      "_view_count": null,
      "_view_module": "@jupyter-widgets/controls",
      "_view_module_version": "1.5.0",
      "_view_name": "ProgressView",
      "bar_style": "success",
      "description": "Downloading: 100%",
      "description_tooltip": null,
      "layout": "IPY_MODEL_8c7ca39be3ba43b7973e1f7bbe601237",
      "max": 665,
      "min": 0,
      "orientation": "horizontal",
      "style": "IPY_MODEL_1da67b7bd1514277b9a0088d380e23eb",
      "value": 665
     }
    },
    "76674332703d4e52b80716d443176c9a": {
     "model_module": "@jupyter-widgets/base",
     "model_name": "LayoutModel",
     "state": {
      "_model_module": "@jupyter-widgets/base",
      "_model_module_version": "1.2.0",
      "_model_name": "LayoutModel",
      "_view_count": null,
      "_view_module": "@jupyter-widgets/base",
      "_view_module_version": "1.2.0",
      "_view_name": "LayoutView",
      "align_content": null,
      "align_items": null,
      "align_self": null,
      "border": null,
      "bottom": null,
      "display": null,
      "flex": null,
      "flex_flow": null,
      "grid_area": null,
      "grid_auto_columns": null,
      "grid_auto_flow": null,
      "grid_auto_rows": null,
      "grid_column": null,
      "grid_gap": null,
      "grid_row": null,
      "grid_template_areas": null,
      "grid_template_columns": null,
      "grid_template_rows": null,
      "height": null,
      "justify_content": null,
      "justify_items": null,
      "left": null,
      "margin": null,
      "max_height": null,
      "max_width": null,
      "min_height": null,
      "min_width": null,
      "object_fit": null,
      "object_position": null,
      "order": null,
      "overflow": null,
      "overflow_x": null,
      "overflow_y": null,
      "padding": null,
      "right": null,
      "top": null,
      "visibility": null,
      "width": null
     }
    },
    "7b0104f202394ac0901d1b7cb26cc5d2": {
     "model_module": "@jupyter-widgets/controls",
     "model_name": "DescriptionStyleModel",
     "state": {
      "_model_module": "@jupyter-widgets/controls",
      "_model_module_version": "1.5.0",
      "_model_name": "DescriptionStyleModel",
      "_view_count": null,
      "_view_module": "@jupyter-widgets/base",
      "_view_module_version": "1.2.0",
      "_view_name": "StyleView",
      "description_width": ""
     }
    },
    "7e22bdc2890f40a5b74e594bfea2912e": {
     "model_module": "@jupyter-widgets/controls",
     "model_name": "HTMLModel",
     "state": {
      "_dom_classes": [],
      "_model_module": "@jupyter-widgets/controls",
      "_model_module_version": "1.5.0",
      "_model_name": "HTMLModel",
      "_view_count": null,
      "_view_module": "@jupyter-widgets/controls",
      "_view_module_version": "1.5.0",
      "_view_name": "HTMLView",
      "description": "",
      "description_tooltip": null,
      "layout": "IPY_MODEL_588d4fb334af4a71b4e1c18bd1f16547",
      "placeholder": "​",
      "style": "IPY_MODEL_9625d84b504f45098ab0ab574fd1c76d",
      "value": " 665/665 [07:07&lt;00:00, 1.55B/s]"
     }
    },
    "7f38a5cfcd4c44689dfd2e7bcee62251": {
     "model_module": "@jupyter-widgets/base",
     "model_name": "LayoutModel",
     "state": {
      "_model_module": "@jupyter-widgets/base",
      "_model_module_version": "1.2.0",
      "_model_name": "LayoutModel",
      "_view_count": null,
      "_view_module": "@jupyter-widgets/base",
      "_view_module_version": "1.2.0",
      "_view_name": "LayoutView",
      "align_content": null,
      "align_items": null,
      "align_self": null,
      "border": null,
      "bottom": null,
      "display": null,
      "flex": null,
      "flex_flow": null,
      "grid_area": null,
      "grid_auto_columns": null,
      "grid_auto_flow": null,
      "grid_auto_rows": null,
      "grid_column": null,
      "grid_gap": null,
      "grid_row": null,
      "grid_template_areas": null,
      "grid_template_columns": null,
      "grid_template_rows": null,
      "height": null,
      "justify_content": null,
      "justify_items": null,
      "left": null,
      "margin": null,
      "max_height": null,
      "max_width": null,
      "min_height": null,
      "min_width": null,
      "object_fit": null,
      "object_position": null,
      "order": null,
      "overflow": null,
      "overflow_x": null,
      "overflow_y": null,
      "padding": null,
      "right": null,
      "top": null,
      "visibility": null,
      "width": null
     }
    },
    "8c7ca39be3ba43b7973e1f7bbe601237": {
     "model_module": "@jupyter-widgets/base",
     "model_name": "LayoutModel",
     "state": {
      "_model_module": "@jupyter-widgets/base",
      "_model_module_version": "1.2.0",
      "_model_name": "LayoutModel",
      "_view_count": null,
      "_view_module": "@jupyter-widgets/base",
      "_view_module_version": "1.2.0",
      "_view_name": "LayoutView",
      "align_content": null,
      "align_items": null,
      "align_self": null,
      "border": null,
      "bottom": null,
      "display": null,
      "flex": null,
      "flex_flow": null,
      "grid_area": null,
      "grid_auto_columns": null,
      "grid_auto_flow": null,
      "grid_auto_rows": null,
      "grid_column": null,
      "grid_gap": null,
      "grid_row": null,
      "grid_template_areas": null,
      "grid_template_columns": null,
      "grid_template_rows": null,
      "height": null,
      "justify_content": null,
      "justify_items": null,
      "left": null,
      "margin": null,
      "max_height": null,
      "max_width": null,
      "min_height": null,
      "min_width": null,
      "object_fit": null,
      "object_position": null,
      "order": null,
      "overflow": null,
      "overflow_x": null,
      "overflow_y": null,
      "padding": null,
      "right": null,
      "top": null,
      "visibility": null,
      "width": null
     }
    },
    "93e70d6c76c0408c8b6e338214bc1a1e": {
     "model_module": "@jupyter-widgets/controls",
     "model_name": "ProgressStyleModel",
     "state": {
      "_model_module": "@jupyter-widgets/controls",
      "_model_module_version": "1.5.0",
      "_model_name": "ProgressStyleModel",
      "_view_count": null,
      "_view_module": "@jupyter-widgets/base",
      "_view_module_version": "1.2.0",
      "_view_name": "StyleView",
      "bar_color": null,
      "description_width": "initial"
     }
    },
    "9625d84b504f45098ab0ab574fd1c76d": {
     "model_module": "@jupyter-widgets/controls",
     "model_name": "DescriptionStyleModel",
     "state": {
      "_model_module": "@jupyter-widgets/controls",
      "_model_module_version": "1.5.0",
      "_model_name": "DescriptionStyleModel",
      "_view_count": null,
      "_view_module": "@jupyter-widgets/base",
      "_view_module_version": "1.2.0",
      "_view_name": "StyleView",
      "description_width": ""
     }
    },
    "aa0364b58cf545d7b91954064a0a36f2": {
     "model_module": "@jupyter-widgets/base",
     "model_name": "LayoutModel",
     "state": {
      "_model_module": "@jupyter-widgets/base",
      "_model_module_version": "1.2.0",
      "_model_name": "LayoutModel",
      "_view_count": null,
      "_view_module": "@jupyter-widgets/base",
      "_view_module_version": "1.2.0",
      "_view_name": "LayoutView",
      "align_content": null,
      "align_items": null,
      "align_self": null,
      "border": null,
      "bottom": null,
      "display": null,
      "flex": null,
      "flex_flow": null,
      "grid_area": null,
      "grid_auto_columns": null,
      "grid_auto_flow": null,
      "grid_auto_rows": null,
      "grid_column": null,
      "grid_gap": null,
      "grid_row": null,
      "grid_template_areas": null,
      "grid_template_columns": null,
      "grid_template_rows": null,
      "height": null,
      "justify_content": null,
      "justify_items": null,
      "left": null,
      "margin": null,
      "max_height": null,
      "max_width": null,
      "min_height": null,
      "min_width": null,
      "object_fit": null,
      "object_position": null,
      "order": null,
      "overflow": null,
      "overflow_x": null,
      "overflow_y": null,
      "padding": null,
      "right": null,
      "top": null,
      "visibility": null,
      "width": null
     }
    },
    "b2f7a9da965c4f339b5067dc56dec80e": {
     "model_module": "@jupyter-widgets/controls",
     "model_name": "HBoxModel",
     "state": {
      "_dom_classes": [],
      "_model_module": "@jupyter-widgets/controls",
      "_model_module_version": "1.5.0",
      "_model_name": "HBoxModel",
      "_view_count": null,
      "_view_module": "@jupyter-widgets/controls",
      "_view_module_version": "1.5.0",
      "_view_name": "HBoxView",
      "box_style": "",
      "children": [
       "IPY_MODEL_45e78740a1fa4758a5f12994cb601309",
       "IPY_MODEL_5a9107a0bfdc42d0ba23b1b5de0256d8"
      ],
      "layout": "IPY_MODEL_4b2f543da43a44ce9530f7fe2aae3029"
     }
    },
    "c0136861531745c09dbaa9c53648fd58": {
     "model_module": "@jupyter-widgets/base",
     "model_name": "LayoutModel",
     "state": {
      "_model_module": "@jupyter-widgets/base",
      "_model_module_version": "1.2.0",
      "_model_name": "LayoutModel",
      "_view_count": null,
      "_view_module": "@jupyter-widgets/base",
      "_view_module_version": "1.2.0",
      "_view_name": "LayoutView",
      "align_content": null,
      "align_items": null,
      "align_self": null,
      "border": null,
      "bottom": null,
      "display": null,
      "flex": null,
      "flex_flow": null,
      "grid_area": null,
      "grid_auto_columns": null,
      "grid_auto_flow": null,
      "grid_auto_rows": null,
      "grid_column": null,
      "grid_gap": null,
      "grid_row": null,
      "grid_template_areas": null,
      "grid_template_columns": null,
      "grid_template_rows": null,
      "height": null,
      "justify_content": null,
      "justify_items": null,
      "left": null,
      "margin": null,
      "max_height": null,
      "max_width": null,
      "min_height": null,
      "min_width": null,
      "object_fit": null,
      "object_position": null,
      "order": null,
      "overflow": null,
      "overflow_x": null,
      "overflow_y": null,
      "padding": null,
      "right": null,
      "top": null,
      "visibility": null,
      "width": null
     }
    },
    "cd8e24b78773453d8389db178a0e9a77": {
     "model_module": "@jupyter-widgets/controls",
     "model_name": "ProgressStyleModel",
     "state": {
      "_model_module": "@jupyter-widgets/controls",
      "_model_module_version": "1.5.0",
      "_model_name": "ProgressStyleModel",
      "_view_count": null,
      "_view_module": "@jupyter-widgets/base",
      "_view_module_version": "1.2.0",
      "_view_name": "StyleView",
      "bar_color": null,
      "description_width": "initial"
     }
    },
    "ce943f4e645a43e0a3c9775fe1e79296": {
     "model_module": "@jupyter-widgets/base",
     "model_name": "LayoutModel",
     "state": {
      "_model_module": "@jupyter-widgets/base",
      "_model_module_version": "1.2.0",
      "_model_name": "LayoutModel",
      "_view_count": null,
      "_view_module": "@jupyter-widgets/base",
      "_view_module_version": "1.2.0",
      "_view_name": "LayoutView",
      "align_content": null,
      "align_items": null,
      "align_self": null,
      "border": null,
      "bottom": null,
      "display": null,
      "flex": null,
      "flex_flow": null,
      "grid_area": null,
      "grid_auto_columns": null,
      "grid_auto_flow": null,
      "grid_auto_rows": null,
      "grid_column": null,
      "grid_gap": null,
      "grid_row": null,
      "grid_template_areas": null,
      "grid_template_columns": null,
      "grid_template_rows": null,
      "height": null,
      "justify_content": null,
      "justify_items": null,
      "left": null,
      "margin": null,
      "max_height": null,
      "max_width": null,
      "min_height": null,
      "min_width": null,
      "object_fit": null,
      "object_position": null,
      "order": null,
      "overflow": null,
      "overflow_x": null,
      "overflow_y": null,
      "padding": null,
      "right": null,
      "top": null,
      "visibility": null,
      "width": null
     }
    },
    "d37ced4421cb42e28a7ba203a15afa14": {
     "model_module": "@jupyter-widgets/controls",
     "model_name": "HBoxModel",
     "state": {
      "_dom_classes": [],
      "_model_module": "@jupyter-widgets/controls",
      "_model_module_version": "1.5.0",
      "_model_name": "HBoxModel",
      "_view_count": null,
      "_view_module": "@jupyter-widgets/controls",
      "_view_module_version": "1.5.0",
      "_view_name": "HBoxView",
      "box_style": "",
      "children": [
       "IPY_MODEL_62778bad50b74c2c870bffd28ae24cd9",
       "IPY_MODEL_7e22bdc2890f40a5b74e594bfea2912e"
      ],
      "layout": "IPY_MODEL_e77aa7a8f6ee43abb2fc3534e1bec7ed"
     }
    },
    "e77aa7a8f6ee43abb2fc3534e1bec7ed": {
     "model_module": "@jupyter-widgets/base",
     "model_name": "LayoutModel",
     "state": {
      "_model_module": "@jupyter-widgets/base",
      "_model_module_version": "1.2.0",
      "_model_name": "LayoutModel",
      "_view_count": null,
      "_view_module": "@jupyter-widgets/base",
      "_view_module_version": "1.2.0",
      "_view_name": "LayoutView",
      "align_content": null,
      "align_items": null,
      "align_self": null,
      "border": null,
      "bottom": null,
      "display": null,
      "flex": null,
      "flex_flow": null,
      "grid_area": null,
      "grid_auto_columns": null,
      "grid_auto_flow": null,
      "grid_auto_rows": null,
      "grid_column": null,
      "grid_gap": null,
      "grid_row": null,
      "grid_template_areas": null,
      "grid_template_columns": null,
      "grid_template_rows": null,
      "height": null,
      "justify_content": null,
      "justify_items": null,
      "left": null,
      "margin": null,
      "max_height": null,
      "max_width": null,
      "min_height": null,
      "min_width": null,
      "object_fit": null,
      "object_position": null,
      "order": null,
      "overflow": null,
      "overflow_x": null,
      "overflow_y": null,
      "padding": null,
      "right": null,
      "top": null,
      "visibility": null,
      "width": null
     }
    },
    "e835a009a91a439d8f7bdc434c45c882": {
     "model_module": "@jupyter-widgets/controls",
     "model_name": "HBoxModel",
     "state": {
      "_dom_classes": [],
      "_model_module": "@jupyter-widgets/controls",
      "_model_module_version": "1.5.0",
      "_model_name": "HBoxModel",
      "_view_count": null,
      "_view_module": "@jupyter-widgets/controls",
      "_view_module_version": "1.5.0",
      "_view_name": "HBoxView",
      "box_style": "",
      "children": [
       "IPY_MODEL_2f6d330e57a442b489e76f6087f1d13f",
       "IPY_MODEL_20bcec999e294c7f9b2675c06847ec5c"
      ],
      "layout": "IPY_MODEL_76674332703d4e52b80716d443176c9a"
     }
    },
    "eda71ed0ed4147bc899c833e41b794b4": {
     "model_module": "@jupyter-widgets/controls",
     "model_name": "FloatProgressModel",
     "state": {
      "_dom_classes": [],
      "_model_module": "@jupyter-widgets/controls",
      "_model_module_version": "1.5.0",
      "_model_name": "FloatProgressModel",
      "_view_count": null,
      "_view_module": "@jupyter-widgets/controls",
      "_view_module_version": "1.5.0",
      "_view_name": "ProgressView",
      "bar_style": "success",
      "description": "Downloading: 100%",
      "description_tooltip": null,
      "layout": "IPY_MODEL_ce943f4e645a43e0a3c9775fe1e79296",
      "max": 548118077,
      "min": 0,
      "orientation": "horizontal",
      "style": "IPY_MODEL_441cfbf08b2a48bcbcc2a43694c1f975",
      "value": 548118077
     }
    },
    "efe8c868de1e49c6b94822fad4922c62": {
     "model_module": "@jupyter-widgets/base",
     "model_name": "LayoutModel",
     "state": {
      "_model_module": "@jupyter-widgets/base",
      "_model_module_version": "1.2.0",
      "_model_name": "LayoutModel",
      "_view_count": null,
      "_view_module": "@jupyter-widgets/base",
      "_view_module_version": "1.2.0",
      "_view_name": "LayoutView",
      "align_content": null,
      "align_items": null,
      "align_self": null,
      "border": null,
      "bottom": null,
      "display": null,
      "flex": null,
      "flex_flow": null,
      "grid_area": null,
      "grid_auto_columns": null,
      "grid_auto_flow": null,
      "grid_auto_rows": null,
      "grid_column": null,
      "grid_gap": null,
      "grid_row": null,
      "grid_template_areas": null,
      "grid_template_columns": null,
      "grid_template_rows": null,
      "height": null,
      "justify_content": null,
      "justify_items": null,
      "left": null,
      "margin": null,
      "max_height": null,
      "max_width": null,
      "min_height": null,
      "min_width": null,
      "object_fit": null,
      "object_position": null,
      "order": null,
      "overflow": null,
      "overflow_x": null,
      "overflow_y": null,
      "padding": null,
      "right": null,
      "top": null,
      "visibility": null,
      "width": null
     }
    }
   }
  }
 },
 "nbformat": 4,
 "nbformat_minor": 1
}
